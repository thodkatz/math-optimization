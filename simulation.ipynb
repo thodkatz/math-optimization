{
 "cells": [
  {
   "cell_type": "markdown",
   "id": "01b37884",
   "metadata": {},
   "source": [
    "For the jupyter notebook we use this octave kernel:\n",
    "https://github.com/Calysto/octave_kernel\n",
    "\n",
    "```shell\n",
    "pip install octave_kernel\n",
    "cd <root of the project>\n",
    "jupyter notebook\n",
    "```"
   ]
  },
  {
   "cell_type": "code",
   "execution_count": 2,
   "id": "91e405b5",
   "metadata": {
    "scrolled": true
   },
   "outputs": [
    {
     "name": "stdout",
     "output_type": "stream",
     "text": [
      "\u001b[?2004l\n",
      "\u001b[?2004h\u001b[?2004l\n",
      "\u001b[?2004h\u001b[?2004l\n",
      "\u001b[?2004h\u001b[?2004l\n",
      "directory = /home/thodkatz/repos/personal/math-optimization\n",
      "\u001b[?2004h\u001b[?2004l\n",
      "\u001b[?2004h"
     ]
    }
   ],
   "source": [
    "format longE\n",
    "\n",
    "# setup the path to include the 'utils' directory\n",
    "directory = pwd\n",
    "addpath(genpath(directory))"
   ]
  },
  {
   "cell_type": "code",
   "execution_count": null,
   "id": "f0dac3c9",
   "metadata": {
    "scrolled": true
   },
   "outputs": [],
   "source": [
    "# define rosenbrock functions\n",
    "\n",
    "function f = rosen_sym()\n",
    "    syms x y\n",
    "    f = 100*(y-x^2)^2 + (1-x)^2;\n",
    "end\n",
    "\n",
    "function val = rosen(v)\n",
    "    [sym_var, sym_point] = point2sym(rosen_sym, v);\n",
    "    val = eval(subs(rosen_sym, sym_var, sym_point));\n",
    "end\n",
    "\n",
    "function val = rosen_grad(point)\n",
    "    assert(is_vector(point))\n",
    "    val = multidim_grad(rosen_sym, point);\n",
    "end\n",
    "\n",
    "function val = rosen_hessian(v)\n",
    "    # Given a vector 'v' with 2 coordinates return the hessian of the Rosenbrock function, a 2x2 matrix.\n",
    "    val = multidim_hessian(rosen_sym, v);\n",
    "end"
   ]
  },
  {
   "cell_type": "code",
   "execution_count": null,
   "id": "d207501b",
   "metadata": {
    "scrolled": false
   },
   "outputs": [],
   "source": [
    "is_wolfe = 1;\n",
    "is_armijo = 2;\n",
    "is_none = 3;"
   ]
  },
  {
   "cell_type": "code",
   "execution_count": null,
   "id": "beaeed63",
   "metadata": {},
   "outputs": [],
   "source": [
    "[xmin, ymin] = newton(@rosen, @rosen_grad, [1.2,1.2]', is_wolfe)"
   ]
  },
  {
   "cell_type": "code",
   "execution_count": 5,
   "id": "b1bc8a4d",
   "metadata": {},
   "outputs": [
    {
     "name": "stdout",
     "output_type": "stream",
     "text": [
      "\u001b[?2004l\n",
      "STARTED Line search using newton\n",
      "Symbolic pkg v3.1.1: Python communication link active, SymPy v1.11.1.\n",
      "\n",
      "STARTED ARMIJO Step size config...\n",
      "ENDED ARMIJO Step size config...\n",
      "\n",
      "Iter 1, x=[1.195918,1.430204], a=1.000000\n",
      "\n",
      "STARTED ARMIJO Step size config...\n",
      "Iter 0, step size: 0.5\n",
      "ENDED ARMIJO Step size config...\n",
      "\n",
      "Iter 2, x=[1.098284,1.196688], a=0.500000\n",
      "\n",
      "STARTED ARMIJO Step size config...\n",
      "ENDED ARMIJO Step size config...\n",
      "\n",
      "Iter 3, x=[1.064488,1.131993], a=1.000000\n",
      "\n",
      "STARTED ARMIJO Step size config...\n",
      "ENDED ARMIJO Step size config...\n",
      "\n",
      "Iter 4, x=[1.011992,1.021372], a=1.000000\n",
      "\n",
      "STARTED ARMIJO Step size config...\n",
      "ENDED ARMIJO Step size config...\n",
      "\n",
      "Iter 5, x=[1.004261,1.008481], a=1.000000\n",
      "\n",
      "STARTED ARMIJO Step size config...\n",
      "ENDED ARMIJO Step size config...\n",
      "\n",
      "Iter 6, x=[1.000050,1.000083], a=1.000000\n",
      "\n",
      "STARTED ARMIJO Step size config...\n",
      "ENDED ARMIJO Step size config...\n",
      "\n",
      "Iter 7, x=[1.000000,1.000000], a=1.000000\n",
      "\n",
      "STARTED ARMIJO Step size config...\n",
      "ENDED ARMIJO Step size config...\n",
      "\n",
      "Iter 8, x=[1.000000,1.000000], a=1.000000\n",
      "ENDED Line search using newton\n",
      "xmin =\n",
      "\n",
      "   1.000000000000089e+00\n",
      "   1.000000000000147e+00\n",
      "\n",
      "ymin = 1.074235775027810e-25\n",
      "\u001b[?2004h"
     ]
    }
   ],
   "source": [
    "[xmin, ymin] = newton(@rosen, @rosen_grad, [1.2,1.2]', is_armijo)\n"
   ]
  },
  {
   "cell_type": "code",
   "execution_count": 6,
   "id": "7ef7bd99",
   "metadata": {},
   "outputs": [
    {
     "name": "stdout",
     "output_type": "stream",
     "text": [
      "\u001b[?2004l\n",
      "STARTED Line search using newton\n",
      "Iter 1, x=[1.195918,1.430204], a=1.000000\n",
      "Iter 2, x=[1.000651,0.963172], a=1.000000\n",
      "Iter 3, x=[1.000575,1.001151], a=1.000000\n",
      "Iter 4, x=[1.000000,1.000000], a=1.000000\n",
      "Iter 5, x=[1.000000,1.000000], a=1.000000\n",
      "ENDED Line search using newton\n",
      "xmin =\n",
      "\n",
      "   1.000000000000043e+00\n",
      "   1.000000000000087e+00\n",
      "\n",
      "ymin = 1.874777245064311e-27\n",
      "\u001b[?2004h"
     ]
    }
   ],
   "source": [
    "[xmin, ymin] = newton(@rosen, @rosen_grad, [1.2,1.2]', is_none)\n"
   ]
  },
  {
   "cell_type": "code",
   "execution_count": null,
   "id": "aa4490e2",
   "metadata": {},
   "outputs": [],
   "source": [
    "[xmin, ymin] = newton(@rosen, @rosen_grad, [-1.2,1]', line_searh_method)\n"
   ]
  },
  {
   "cell_type": "code",
   "execution_count": null,
   "id": "297926cd",
   "metadata": {},
   "outputs": [],
   "source": [
    "[xmin, ymin] = steepest_descent(@rosen, @rosen_grad, [1.2,1.2]', line_searh_method)\n"
   ]
  },
  {
   "cell_type": "code",
   "execution_count": null,
   "id": "88b4d572",
   "metadata": {},
   "outputs": [],
   "source": [
    "[xmin, ymin] = steepest_descent(@rosen, @rosen_grad, [-1.2,1]', line_searh_method)\n"
   ]
  }
 ],
 "metadata": {
  "kernelspec": {
   "display_name": "Octave",
   "language": "octave",
   "name": "octave"
  },
  "language_info": {
   "file_extension": ".m",
   "help_links": [
    {
     "text": "GNU Octave",
     "url": "https://www.gnu.org/software/octave/support.html"
    },
    {
     "text": "Octave Kernel",
     "url": "https://github.com/Calysto/octave_kernel"
    },
    {
     "text": "MetaKernel Magics",
     "url": "https://metakernel.readthedocs.io/en/latest/source/README.html"
    }
   ],
   "mimetype": "text/x-octave",
   "name": "octave",
   "version": "8.1.0"
  }
 },
 "nbformat": 4,
 "nbformat_minor": 5
}
